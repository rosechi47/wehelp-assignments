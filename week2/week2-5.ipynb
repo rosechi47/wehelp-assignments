{
 "cells": [
  {
   "cell_type": "code",
   "execution_count": 4,
   "id": "c4c58de5",
   "metadata": {},
   "outputs": [
    {
     "name": "stdout",
     "output_type": "stream",
     "text": [
      "2\n",
      "4\n",
      "0\n",
      "3\n"
     ]
    }
   ],
   "source": [
    "#連續的zero得到數字\n",
    "\n",
    "def maxZeros(nums):\n",
    "    \n",
    "    i =1#就是i\n",
    "    n=1#記錄次數\n",
    "    save=[]#先存起來再找出最大的\n",
    "    while i < len(nums):\n",
    "            \n",
    "        if nums[i-1]==nums[i]==0:\n",
    "            n = n+1\n",
    "            save.append(n)\n",
    "        else:\n",
    "            n = 1 #回復初始值得n\n",
    "            save.append(int(\"0\"))\n",
    "       \n",
    "        i =i+1\n",
    "\n",
    "    print(max(save))\n",
    "    \n",
    "\n",
    "#test#\n",
    "maxZeros([0, 1, 0, 0]) # 得到 2\n",
    "maxZeros([1, 0, 0, 0, 0, 1, 0, 1, 0, 0]) # 得到 4 \n",
    "maxZeros([1, 1, 1, 1, 1]) # 得到 0 \n",
    "maxZeros([0, 0, 0, 1, 1]) # 得到 3"
   ]
  },
  {
   "cell_type": "code",
   "execution_count": null,
   "id": "ed44ec82",
   "metadata": {},
   "outputs": [],
   "source": []
  },
  {
   "cell_type": "code",
   "execution_count": null,
   "id": "ffb8458a",
   "metadata": {},
   "outputs": [],
   "source": []
  }
 ],
 "metadata": {
  "kernelspec": {
   "display_name": "Python 3",
   "language": "python",
   "name": "python3"
  },
  "language_info": {
   "codemirror_mode": {
    "name": "ipython",
    "version": 3
   },
   "file_extension": ".py",
   "mimetype": "text/x-python",
   "name": "python",
   "nbconvert_exporter": "python",
   "pygments_lexer": "ipython3",
   "version": "3.8.8"
  }
 },
 "nbformat": 4,
 "nbformat_minor": 5
}
