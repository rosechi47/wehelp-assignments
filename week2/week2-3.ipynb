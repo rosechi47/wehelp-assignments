{
 "cells": [
  {
   "cell_type": "code",
   "execution_count": 7,
   "id": "d1204c8a",
   "metadata": {},
   "outputs": [
    {
     "name": "stdout",
     "output_type": "stream",
     "text": [
      "120\n",
      "30\n",
      "-2\n",
      "0\n"
     ]
    }
   ],
   "source": [
    "def maxProduct(nums):\n",
    "    a = max(nums)\n",
    "    nums.remove(a)\n",
    "    b = max(nums)\n",
    "    print (a*b)\n",
    "    \n",
    "#test#\n",
    "maxProduct([5, 20, 2, 6]) # 得到 120 \n",
    "maxProduct([10, -20, 0, 3]) # 得到 30 \n",
    "maxProduct([-1, 2]) # 得到 -2 \n",
    "maxProduct([-1, 0, 2]) # 得到 0\n"
   ]
  },
  {
   "cell_type": "code",
   "execution_count": null,
   "id": "a4619d4d",
   "metadata": {},
   "outputs": [],
   "source": []
  }
 ],
 "metadata": {
  "kernelspec": {
   "display_name": "Python 3",
   "language": "python",
   "name": "python3"
  },
  "language_info": {
   "codemirror_mode": {
    "name": "ipython",
    "version": 3
   },
   "file_extension": ".py",
   "mimetype": "text/x-python",
   "name": "python",
   "nbconvert_exporter": "python",
   "pygments_lexer": "ipython3",
   "version": "3.8.8"
  }
 },
 "nbformat": 4,
 "nbformat_minor": 5
}
