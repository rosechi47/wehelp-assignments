{
 "cells": [
  {
   "cell_type": "code",
   "execution_count": 1,
   "id": "209fa5f6",
   "metadata": {},
   "outputs": [
    {
     "name": "stdout",
     "output_type": "stream",
     "text": [
      "6\n",
      "30\n"
     ]
    }
   ],
   "source": [
    "def calculate(min, max):\n",
    "    print(sum(range(min,max+1)))\n",
    "\n",
    "#test#\n",
    "calculate(1, 3)\n",
    "calculate(4, 8) "
   ]
  },
  {
   "cell_type": "code",
   "execution_count": null,
   "id": "245e5a9b",
   "metadata": {},
   "outputs": [],
   "source": []
  }
 ],
 "metadata": {
  "kernelspec": {
   "display_name": "Python 3",
   "language": "python",
   "name": "python3"
  },
  "language_info": {
   "codemirror_mode": {
    "name": "ipython",
    "version": 3
   },
   "file_extension": ".py",
   "mimetype": "text/x-python",
   "name": "python",
   "nbconvert_exporter": "python",
   "pygments_lexer": "ipython3",
   "version": "3.8.8"
  }
 },
 "nbformat": 4,
 "nbformat_minor": 5
}
