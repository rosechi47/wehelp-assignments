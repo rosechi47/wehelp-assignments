{
 "cells": [
  {
   "cell_type": "code",
   "execution_count": 66,
   "id": "1ef2312d",
   "metadata": {},
   "outputs": [
    {
     "name": "stdout",
     "output_type": "stream",
     "text": [
      "[0, 2]\n"
     ]
    }
   ],
   "source": [
    "#把每一個答案算出來記在pos\n",
    "def twoSum(nums, target):\n",
    "    \n",
    "    i = 0;n = 1\n",
    "    pos = [] #記錄答案的list\n",
    "    save = []#記錄組合的list\n",
    "    while i<len(nums):\n",
    "\n",
    "        \n",
    "        while i < n < len(nums):\n",
    "            pos.append(int(nums[i]+nums[n]))\n",
    "            team = [i,n] #把每一個pos的組合存下來\n",
    "            save.append(team)\n",
    "            n = n + 1 \n",
    "            \n",
    "        i=i+1\n",
    "        n=i+1\n",
    "        \n",
    "    a = 0\n",
    "    while a < 100 :\n",
    "        if pos[a] == target:\n",
    "            return(save[a])\n",
    "\n",
    "        a = a+1\n",
    "    \n",
    "##test##\n",
    "result=twoSum([2, 11, 7, 15], 9)\n",
    "print(result) # show [0, 2] because nums[0]+nums[2] is 9"
   ]
  },
  {
   "cell_type": "code",
   "execution_count": null,
   "id": "6bcc4f52",
   "metadata": {},
   "outputs": [],
   "source": []
  }
 ],
 "metadata": {
  "kernelspec": {
   "display_name": "Python 3",
   "language": "python",
   "name": "python3"
  },
  "language_info": {
   "codemirror_mode": {
    "name": "ipython",
    "version": 3
   },
   "file_extension": ".py",
   "mimetype": "text/x-python",
   "name": "python",
   "nbconvert_exporter": "python",
   "pygments_lexer": "ipython3",
   "version": "3.8.8"
  }
 },
 "nbformat": 4,
 "nbformat_minor": 5
}
