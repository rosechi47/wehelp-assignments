{
 "cells": [
  {
   "cell_type": "code",
   "execution_count": 19,
   "id": "0b5345c6",
   "metadata": {},
   "outputs": [
    {
     "data": {
      "text/plain": [
       "46666.666666666664"
      ]
     },
     "execution_count": 19,
     "metadata": {},
     "output_type": "execute_result"
    }
   ],
   "source": [
    "##dict裡面有dict\n",
    "\n",
    "def avg(data):\n",
    "    count = int(data[\"count\"])\n",
    "    employees = data[\"employees\"] # is a list\n",
    "    \n",
    "    i = 0 \n",
    "    dict_em = []\n",
    "    salary = []\n",
    "    for i in range(count):\n",
    "        dict_em.append(dict(employees[i])) #list裡面是dict\n",
    "        salary.append(dict_em[i][\"salary\"])\n",
    "        int_sa = int(sum(salary))\n",
    "        \n",
    "\n",
    "    return int_sa/count\n",
    "\n",
    "\n",
    "##test##\n",
    "avg({\n",
    "\"count\":3, \"employees\":[\n",
    "{\n",
    "\"name\":\"John\",\n",
    "\"salary\":30000 },\n",
    "{\n",
    "\"name\":\"Bob\",\n",
    "\"salary\":60000 },\n",
    "{\n",
    "\"name\":\"Jenny\",\n",
    "\"salary\":50000 }\n",
    "]\n",
    "}) # 呼叫 avg 函式"
   ]
  },
  {
   "cell_type": "code",
   "execution_count": null,
   "id": "f5f2be16",
   "metadata": {},
   "outputs": [],
   "source": []
  }
 ],
 "metadata": {
  "kernelspec": {
   "display_name": "Python 3",
   "language": "python",
   "name": "python3"
  },
  "language_info": {
   "codemirror_mode": {
    "name": "ipython",
    "version": 3
   },
   "file_extension": ".py",
   "mimetype": "text/x-python",
   "name": "python",
   "nbconvert_exporter": "python",
   "pygments_lexer": "ipython3",
   "version": "3.8.8"
  }
 },
 "nbformat": 4,
 "nbformat_minor": 5
}
